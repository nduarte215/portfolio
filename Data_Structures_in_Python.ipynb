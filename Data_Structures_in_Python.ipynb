{
  "cells": [
    {
      "cell_type": "markdown",
      "metadata": {
        "id": "view-in-github",
        "colab_type": "text"
      },
      "source": [
        "<a href=\"https://colab.research.google.com/github/nduarte215/portfolio/blob/main/Data_Structures_in_Python.ipynb\" target=\"_parent\"><img src=\"https://colab.research.google.com/assets/colab-badge.svg\" alt=\"Open In Colab\"/></a>"
      ]
    },
    {
      "cell_type": "markdown",
      "source": [
        "### Data Structures in Python - Colab Notebook"
      ],
      "metadata": {
        "id": "Nv9XilQK3JOQ"
      },
      "id": "Nv9XilQK3JOQ"
    },
    {
      "cell_type": "markdown",
      "source": [
        "### Introduction to Data Structures\n",
        "\n",
        "Python provides a variety of built-in data structures that make it easy to store, organize, and manipulate data. In this notebook, we will explore the most commonly used data structures: lists, tuples, sets, and dictionaries. We will also dive into slicing and indexing, which are essential for accessing and modifying elements within these data structures.\n"
      ],
      "metadata": {
        "id": "928Wwkjf3SkA"
      },
      "id": "928Wwkjf3SkA"
    },
    {
      "cell_type": "markdown",
      "source": [
        "## Table of Contents\n",
        "\n",
        "1. Lists\n",
        "    - Creating Lists\n",
        "    - Accessing Elements\n",
        "    - Modifying Elements\n",
        "    - List Methods\n",
        "2. Tuples\n",
        "    - Creating Tuples\n",
        "    - Accessing Elements\n",
        "    - Immutability\n",
        "    - Tuple Methods\n",
        "3. Sets\n",
        "    - Creating Sets\n",
        "    - Adding and Removing Elements\n",
        "    - Set Operations\n",
        "4. Dictionaries\n",
        "    - Creating Dictionaries\n",
        "    - Accessing Elements\n",
        "    - Modifying Elements\n",
        "    - Dictionary Methods\n",
        "5. Slicing and Indexing\n",
        "    - Slicing Lists and Strings\n",
        "    - Indexing with Tuples\n",
        "    - Advanced Slicing Techniques"
      ],
      "metadata": {
        "id": "p3B6HGk_3TFH"
      },
      "id": "p3B6HGk_3TFH"
    },
    {
      "cell_type": "markdown",
      "source": [
        "## Lists\n",
        "\n",
        "A list is an ordered collection of items that can be of any type. Lists are mutable, which means you can change their content.\n",
        "\n",
        "#### Creating Lists"
      ],
      "metadata": {
        "id": "V0yw0Ift3X3L"
      },
      "id": "V0yw0Ift3X3L"
    },
    {
      "cell_type": "code",
      "source": [
        "# Creating a list of integers\n",
        "numbers = [1, 2, 3, 4, 5]\n",
        "print(numbers)\n",
        "\n",
        "# Creating a list of mixed types\n",
        "mixed = [1, \"hello\", 3.14, True]\n",
        "print(mixed)"
      ],
      "metadata": {
        "id": "tMxfgGiq3dEc"
      },
      "id": "tMxfgGiq3dEc",
      "execution_count": null,
      "outputs": []
    },
    {
      "cell_type": "markdown",
      "source": [
        "Now try defining a list of your own and play with it. See what happens when you add two lists, subtract two lists, multiply lists with a number."
      ],
      "metadata": {
        "id": "g4OPEJ2-3fjj"
      },
      "id": "g4OPEJ2-3fjj"
    },
    {
      "cell_type": "code",
      "source": [
        "# Experiment with lists\n",
        "\n",
        "\n"
      ],
      "metadata": {
        "id": "JiokHVs63p8C"
      },
      "id": "JiokHVs63p8C",
      "execution_count": null,
      "outputs": []
    },
    {
      "cell_type": "markdown",
      "source": [
        "### Accessing Elements\n",
        "\n",
        "Always remember that in programming languages first element is at position 0 not at 1. So if you call `numbers[0]`, this will return the first item in the list."
      ],
      "metadata": {
        "id": "zT7iWVHe3sP6"
      },
      "id": "zT7iWVHe3sP6"
    },
    {
      "cell_type": "code",
      "source": [
        "# Accessing elements by index\n",
        "print(numbers[0])  # First element\n",
        "print(numbers[1])  # Second element"
      ],
      "metadata": {
        "id": "vL9U95w43_Rq"
      },
      "id": "vL9U95w43_Rq",
      "execution_count": null,
      "outputs": []
    },
    {
      "cell_type": "markdown",
      "source": [
        "Interestingly python also provides something called [negative indexing](https://www.w3schools.com/python/gloss_python_string_negative_indexing.asp). Here we start with -1 for the last element and then move our way from left to right. For your reference:\n",
        "\n",
        "\n",
        "\n"
      ],
      "metadata": {
        "id": "y1IgIwMC4Esy"
      },
      "id": "y1IgIwMC4Esy"
    },
    {
      "cell_type": "markdown",
      "source": [
        "![Python List Indexing - Positive and Negative](https://drive.google.com/uc?id=1bO4tUSChRh12AQ5aGyeLUNbioEdOHwz2)"
      ],
      "metadata": {
        "id": "Mhcvr06H4t8O"
      },
      "id": "Mhcvr06H4t8O"
    },
    {
      "cell_type": "code",
      "source": [
        "print(numbers[-1])  # Last element\n",
        "\n",
        "# Accessing a range of elements (slicing)\n",
        "print(numbers[1:4])  # Elements from index 1 to 3"
      ],
      "metadata": {
        "id": "YGd-RejL5RMf"
      },
      "id": "YGd-RejL5RMf",
      "execution_count": null,
      "outputs": []
    },
    {
      "cell_type": "markdown",
      "source": [
        "Try experimenting with indexing and slicing and get a good feel for it."
      ],
      "metadata": {
        "id": "OonuCz4-5T3K"
      },
      "id": "OonuCz4-5T3K"
    },
    {
      "cell_type": "markdown",
      "source": [
        "### Modifying Elements - CHenaging, adding and removing elements in a list"
      ],
      "metadata": {
        "id": "WvoJ2S6t5eZy"
      },
      "id": "WvoJ2S6t5eZy"
    },
    {
      "cell_type": "code",
      "source": [
        "# Changing an element\n",
        "numbers[2] = 10\n",
        "print(numbers)\n",
        "\n",
        "# Adding elements\n",
        "numbers.append(6)\n",
        "print(numbers)\n",
        "\n",
        "# Removing elements\n",
        "numbers.remove(10)\n",
        "print(numbers)"
      ],
      "metadata": {
        "id": "97WcYVHU5i2u"
      },
      "id": "97WcYVHU5i2u",
      "execution_count": null,
      "outputs": []
    },
    {
      "cell_type": "markdown",
      "source": [
        "### List Methods"
      ],
      "metadata": {
        "id": "FDFFjuVs5n5t"
      },
      "id": "FDFFjuVs5n5t"
    },
    {
      "cell_type": "code",
      "source": [
        "# List of available methods\n",
        "print(dir(numbers))\n",
        "\n",
        "# Using some common list methods\n",
        "numbers = [3, 1, 4, 1, 5, 9]\n",
        "numbers.sort()\n",
        "print(\"Sorted list:\", numbers)\n",
        "\n",
        "numbers.reverse()\n",
        "print(\"Reversed list:\", numbers)\n",
        "\n",
        "index = numbers.index(5)\n",
        "print(\"Index of 5:\", index)"
      ],
      "metadata": {
        "id": "MLxg2wYf5qh2"
      },
      "id": "MLxg2wYf5qh2",
      "execution_count": null,
      "outputs": []
    },
    {
      "cell_type": "markdown",
      "source": [
        "## Tuples\n",
        "\n",
        "A tuple is an ordered collection of items that can be of any type. Tuples are immutable, which means their content cannot be changed.\n",
        "\n",
        "### Creating Tuples\n"
      ],
      "metadata": {
        "id": "FY6dueG55uWm"
      },
      "id": "FY6dueG55uWm"
    },
    {
      "cell_type": "code",
      "source": [
        "# Creating a tuple\n",
        "my_tuple = (1, 2, 3, \"hello\")\n",
        "print(my_tuple)\n",
        "\n",
        "# Creating a tuple without parentheses (not recommended)\n",
        "my_tuple = 1, 2, 3, \"hello\"\n",
        "print(my_tuple)"
      ],
      "metadata": {
        "id": "lxDzzUQ75wcy"
      },
      "id": "lxDzzUQ75wcy",
      "execution_count": null,
      "outputs": []
    },
    {
      "cell_type": "markdown",
      "source": [
        "### Accessing Elements"
      ],
      "metadata": {
        "id": "jxDaP0Ks5z1l"
      },
      "id": "jxDaP0Ks5z1l"
    },
    {
      "cell_type": "code",
      "source": [
        "# Accessing elements by index\n",
        "print(my_tuple[0])  # First element\n",
        "print(my_tuple[-1])  # Last element"
      ],
      "metadata": {
        "id": "3zHy62sl52Qt"
      },
      "id": "3zHy62sl52Qt",
      "execution_count": null,
      "outputs": []
    },
    {
      "cell_type": "markdown",
      "source": [
        "### Immutability"
      ],
      "metadata": {
        "id": "uNPeewQL6AjW"
      },
      "id": "uNPeewQL6AjW"
    },
    {
      "cell_type": "code",
      "source": [
        "# Trying to change an element (will raise an error)\n",
        "# my_tuple[1] = 4  # Uncommenting this line will cause an error\n",
        "\n",
        "# Creating a new tuple with changed content\n",
        "new_tuple = my_tuple[:1] + (4,) + my_tuple[2:]\n",
        "print(new_tuple)"
      ],
      "metadata": {
        "id": "iJyICZhL6OjP"
      },
      "id": "iJyICZhL6OjP",
      "execution_count": null,
      "outputs": []
    },
    {
      "cell_type": "markdown",
      "source": [
        "### Tuple Methods"
      ],
      "metadata": {
        "id": "wEb6PW6u6Vt0"
      },
      "id": "wEb6PW6u6Vt0"
    },
    {
      "cell_type": "code",
      "source": [
        "# Tuple of methods (limited compared to lists)\n",
        "print(dir(my_tuple))\n",
        "\n",
        "# Using some common tuple methods\n",
        "count = my_tuple.count(\"hello\")\n",
        "print(\"Count of 'hello':\", count)\n",
        "\n",
        "index = my_tuple.index(3)\n",
        "print(\"Index of 3:\", index)"
      ],
      "metadata": {
        "id": "5e_qOcqw6Wcb"
      },
      "id": "5e_qOcqw6Wcb",
      "execution_count": null,
      "outputs": []
    },
    {
      "cell_type": "markdown",
      "source": [
        "## Sets\n",
        "\n",
        "A set is an unordered collection of unique items. Sets are mutable, but the elements themselves must be immutable.\n",
        "\n",
        "### Creating Sets"
      ],
      "metadata": {
        "id": "QyrrY4Pj6azX"
      },
      "id": "QyrrY4Pj6azX"
    },
    {
      "cell_type": "code",
      "source": [
        "# Creating a set\n",
        "my_set = {1, 2, 3, 3, 4}\n",
        "print(my_set)  # Duplicate elements are removed\n",
        "\n",
        "# Creating an empty set\n",
        "empty_set = set()\n",
        "print(empty_set)"
      ],
      "metadata": {
        "id": "rQW1U5rG6YRe"
      },
      "id": "rQW1U5rG6YRe",
      "execution_count": null,
      "outputs": []
    },
    {
      "cell_type": "markdown",
      "source": [
        "### Adding and Removing Elements"
      ],
      "metadata": {
        "id": "dAciM-6W6eYF"
      },
      "id": "dAciM-6W6eYF"
    },
    {
      "cell_type": "code",
      "source": [
        "# Adding elements\n",
        "my_set.add(5)\n",
        "print(my_set)\n",
        "\n",
        "# Removing elements\n",
        "my_set.remove(3)\n",
        "print(my_set)"
      ],
      "metadata": {
        "id": "rY8AEUls6gF3"
      },
      "id": "rY8AEUls6gF3",
      "execution_count": null,
      "outputs": []
    },
    {
      "cell_type": "markdown",
      "source": [
        "### Set Operations"
      ],
      "metadata": {
        "id": "7sW_Q_JK6ksf"
      },
      "id": "7sW_Q_JK6ksf"
    },
    {
      "cell_type": "code",
      "source": [
        "# Set operations\n",
        "set_a = {1, 2, 3}\n",
        "set_b = {3, 4, 5}\n",
        "\n",
        "union = set_a | set_b\n",
        "print(\"Union:\", union)\n",
        "\n",
        "intersection = set_a & set_b\n",
        "print(\"Intersection:\", intersection)\n",
        "\n",
        "difference = set_a - set_b\n",
        "print(\"Difference:\", difference)\n",
        "\n",
        "symmetric_difference = set_a ^ set_b\n",
        "print(\"Symmetric Difference:\", symmetric_difference)"
      ],
      "metadata": {
        "id": "tMadtopy8hDF"
      },
      "id": "tMadtopy8hDF",
      "execution_count": null,
      "outputs": []
    },
    {
      "cell_type": "markdown",
      "source": [
        "## Dictionaries\n",
        "\n",
        "A dictionary is an unordered collection of key-value pairs. Keys must be unique and immutable, while values can be of any type.\n",
        "\n",
        "### Creating Dictionaries"
      ],
      "metadata": {
        "id": "R3mV0vnJ8lvZ"
      },
      "id": "R3mV0vnJ8lvZ"
    },
    {
      "cell_type": "code",
      "source": [
        "# Creating a dictionary\n",
        "my_dict = {\"name\": \"Alice\", \"age\": 25, \"city\": \"New York\"}\n",
        "print(my_dict)\n",
        "\n",
        "# Creating an empty dictionary\n",
        "empty_dict = {}\n",
        "print(empty_dict)"
      ],
      "metadata": {
        "id": "KMRJsYr08orT"
      },
      "id": "KMRJsYr08orT",
      "execution_count": null,
      "outputs": []
    },
    {
      "cell_type": "markdown",
      "source": [
        "### Accessing Elements"
      ],
      "metadata": {
        "id": "x_k62dwt8y3k"
      },
      "id": "x_k62dwt8y3k"
    },
    {
      "cell_type": "code",
      "source": [
        "# Accessing elements by key\n",
        "print(my_dict[\"name\"])  # Accessing value by key\n",
        "\n",
        "# Using the get method\n",
        "print(my_dict.get(\"age\"))"
      ],
      "metadata": {
        "id": "odh_8pOM82V5"
      },
      "id": "odh_8pOM82V5",
      "execution_count": null,
      "outputs": []
    },
    {
      "cell_type": "markdown",
      "source": [
        "\n",
        "### Modifying Elements"
      ],
      "metadata": {
        "id": "B7xpV-0M8_Up"
      },
      "id": "B7xpV-0M8_Up"
    },
    {
      "cell_type": "code",
      "source": [
        "# Changing a value\n",
        "my_dict[\"age\"] = 26\n",
        "print(my_dict)\n",
        "\n",
        "# Adding a new key-value pair\n",
        "my_dict[\"email\"] = \"alice@example.com\"\n",
        "print(my_dict)\n",
        "\n",
        "# Removing a key-value pair\n",
        "del my_dict[\"city\"]\n",
        "print(my_dict)"
      ],
      "metadata": {
        "id": "EEu7tka48-ku"
      },
      "id": "EEu7tka48-ku",
      "execution_count": null,
      "outputs": []
    },
    {
      "cell_type": "markdown",
      "source": [
        "### Dictionary Methods"
      ],
      "metadata": {
        "id": "1NqplCor9En8"
      },
      "id": "1NqplCor9En8"
    },
    {
      "cell_type": "code",
      "source": [
        "# Dictionary methods\n",
        "print(dir(my_dict))\n",
        "\n",
        "# Using some common dictionary methods\n",
        "keys = my_dict.keys()\n",
        "print(\"Keys:\", keys)\n",
        "\n",
        "values = my_dict.values()\n",
        "print(\"Values:\", values)\n",
        "\n",
        "items = my_dict.items()\n",
        "print(\"Items:\", items)"
      ],
      "metadata": {
        "id": "DVHmzD0S9H3I"
      },
      "id": "DVHmzD0S9H3I",
      "execution_count": null,
      "outputs": []
    },
    {
      "cell_type": "markdown",
      "source": [
        "## Slicing and Indexing\n",
        "\n",
        "Slicing and indexing are powerful techniques for accessing and modifying elements within lists, tuples, and strings.\n",
        "\n",
        "Slicing and indexing are very useful in python and it is important that you get used to them. Here is a great video tutorial for the same:\n",
        "\n",
        "<br>\n",
        "<center>\n",
        "  <a href=\"https://www.youtube.com/watch?v=ajrtAuDg3yw\" target=\"_blank\">\n",
        "  <img alt='Thumbnail for a video showing 3 cool Google Colab features' src= 'https://drive.google.com/uc?id=1eFhFgyZW4yKi-EPtgLu5Z7aMsbkNX2p0' width=\"700\">\n",
        "\n",
        "  </a>\n",
        "</center>"
      ],
      "metadata": {
        "id": "xIoymez09Nhz"
      },
      "id": "xIoymez09Nhz"
    },
    {
      "cell_type": "markdown",
      "source": [
        "### Slicing Lists and Strings\n"
      ],
      "metadata": {
        "id": "odA7U019__lR"
      },
      "id": "odA7U019__lR"
    },
    {
      "cell_type": "code",
      "source": [
        "# List slicing\n",
        "numbers = [0, 1, 2, 3, 4, 5, 6, 7, 8, 9]\n",
        "print(numbers[2:5])  # Elements from index 2 to 4\n",
        "print(numbers[:4])   # Elements from start to index 3\n",
        "print(numbers[4:])   # Elements from index 4 to end\n",
        "print(numbers[::2])  # Every second element\n",
        "\n",
        "# String slicing\n",
        "my_string = \"Hello, world!\"\n",
        "print(my_string[7:12])  # Substring \"world\"\n",
        "print(my_string[:5])    # Substring \"Hello\"\n",
        "print(my_string[7:])    # Substring \"world!\"\n",
        "print(my_string[::-1])  # Reversed string"
      ],
      "metadata": {
        "id": "uXwY1DsLAAFQ"
      },
      "id": "uXwY1DsLAAFQ",
      "execution_count": null,
      "outputs": []
    },
    {
      "cell_type": "code",
      "source": [
        "# Experiment with slicing. Create your own questions and get comfortable with indexing"
      ],
      "metadata": {
        "id": "iRFrZIi6AEza"
      },
      "id": "iRFrZIi6AEza",
      "execution_count": null,
      "outputs": []
    },
    {
      "cell_type": "markdown",
      "source": [
        "### Indexing with Tuples"
      ],
      "metadata": {
        "id": "nlI_hEjJAPaB"
      },
      "id": "nlI_hEjJAPaB"
    },
    {
      "cell_type": "code",
      "source": [
        "# Tuple indexing\n",
        "my_tuple = (10, 20, 30, 40, 50)\n",
        "print(my_tuple[1])   # Second element\n",
        "print(my_tuple[-1])  # Last element\n",
        "\n",
        "# Tuple slicing\n",
        "print(my_tuple[1:4])  # Elements from index 1 to 3\n",
        "print(my_tuple[:3])   # First three elements\n",
        "print(my_tuple[2:])   # Elements from index 2 to end"
      ],
      "metadata": {
        "id": "eZ7DPjsSATHe"
      },
      "id": "eZ7DPjsSATHe",
      "execution_count": null,
      "outputs": []
    },
    {
      "cell_type": "markdown",
      "source": [
        "### Advanced Slicing Techniques"
      ],
      "metadata": {
        "id": "vNiI9VEQAT3T"
      },
      "id": "vNiI9VEQAT3T"
    },
    {
      "cell_type": "code",
      "source": [
        "# Negative indexing\n",
        "print(numbers[-5:])     # Last five elements\n",
        "print(numbers[:-5])     # All but the last five elements\n",
        "\n",
        "# Reversing with slicing\n",
        "print(numbers[::-1])    # Reversed list"
      ],
      "metadata": {
        "id": "aW_e_ML1AXSj"
      },
      "id": "aW_e_ML1AXSj",
      "execution_count": null,
      "outputs": []
    },
    {
      "cell_type": "markdown",
      "source": [
        "## Exercises\n",
        "\n",
        "**Exercise 1: List Operations**\n",
        "Create a list of your favorite fruits and perform the following operations:\n",
        "- Add a new fruit to the list.\n",
        "- Remove a fruit from the list.\n",
        "- Sort the list alphabetically.\n",
        "- Print the first and last fruit in the list."
      ],
      "metadata": {
        "id": "c__3T_tTAZDP"
      },
      "id": "c__3T_tTAZDP"
    },
    {
      "cell_type": "code",
      "source": [],
      "metadata": {
        "id": "RII27bfDAdBH"
      },
      "id": "RII27bfDAdBH",
      "execution_count": null,
      "outputs": []
    },
    {
      "cell_type": "markdown",
      "source": [
        "**Exercise 2: Tuple Operations**\n",
        "Create a tuple with five different numbers and perform the following operations:\n",
        "- Access the second and fourth elements.\n",
        "- Create a new tuple by adding an element to the original tuple.\n",
        "- Count the occurrences of a specific number in the tuple."
      ],
      "metadata": {
        "id": "VwKQKP7nAdl8"
      },
      "id": "VwKQKP7nAdl8"
    },
    {
      "cell_type": "code",
      "source": [],
      "metadata": {
        "id": "sdlWRQKoAfcv"
      },
      "id": "sdlWRQKoAfcv",
      "execution_count": null,
      "outputs": []
    },
    {
      "cell_type": "markdown",
      "source": [
        "**Exercise 3: Set Operations**\n",
        "Create two sets with some common and some unique elements. Perform the following operations:\n",
        "- Find the union of the sets.\n",
        "- Find the intersection of the sets.\n",
        "- Find the difference between the sets.\n",
        "- Find the symmetric difference between the sets."
      ],
      "metadata": {
        "id": "ZiFSz4cGAf5p"
      },
      "id": "ZiFSz4cGAf5p"
    },
    {
      "cell_type": "code",
      "source": [],
      "metadata": {
        "id": "OGp7e8SfAhgr"
      },
      "id": "OGp7e8SfAhgr",
      "execution_count": null,
      "outputs": []
    },
    {
      "cell_type": "markdown",
      "source": [
        "**Exercise 4: Dictionary Operations**\n",
        "Create a dictionary with information about a book (title, author, year). Perform the following operations:\n",
        "- Add a new key-value pair for the genre.\n",
        "- Update the year of publication.\n",
        "- Remove the author from the dictionary.\n",
        "- Print all the keys and values in the dictionary."
      ],
      "metadata": {
        "id": "uMLb-AmCAjxR"
      },
      "id": "uMLb-AmCAjxR"
    },
    {
      "cell_type": "code",
      "source": [],
      "metadata": {
        "id": "vvUine6YAkgw"
      },
      "id": "vvUine6YAkgw",
      "execution_count": null,
      "outputs": []
    },
    {
      "cell_type": "markdown",
      "source": [
        "**Exercise 5: Slicing and Indexing**\n",
        "Given a list of numbers from 1 to 20, perform the following operations:\n",
        "- Print the first five elements.\n",
        "- Print the last five elements.\n",
        "- Print every second element.\n",
        "- Print the list in reverse order."
      ],
      "metadata": {
        "id": "xXpIL1jVAl8m"
      },
      "id": "xXpIL1jVAl8m"
    },
    {
      "cell_type": "markdown",
      "source": [
        "\n",
        "## Conclusion\n",
        "\n",
        "Understanding data structures is essential for efficient programming in Python. Lists, tuples, sets, and dictionaries provide powerful ways to store and manipulate data. Mastering slicing and indexing techniques will further enhance your ability to work with these data structures. Practice with the examples and exercises provided to deepen your understanding and improve your programming skills."
      ],
      "metadata": {
        "id": "--j5gKoR3LBQ"
      },
      "id": "--j5gKoR3LBQ"
    },
    {
      "cell_type": "code",
      "execution_count": null,
      "id": "a3afaddd-88c5-447f-82ff-ff06d4f29fc4",
      "metadata": {
        "id": "a3afaddd-88c5-447f-82ff-ff06d4f29fc4"
      },
      "outputs": [],
      "source": []
    }
  ],
  "metadata": {
    "kernelspec": {
      "display_name": "Python 3 (ipykernel)",
      "language": "python",
      "name": "python3"
    },
    "language_info": {
      "codemirror_mode": {
        "name": "ipython",
        "version": 3
      },
      "file_extension": ".py",
      "mimetype": "text/x-python",
      "name": "python",
      "nbconvert_exporter": "python",
      "pygments_lexer": "ipython3",
      "version": "3.10.13"
    },
    "colab": {
      "provenance": [],
      "include_colab_link": true
    }
  },
  "nbformat": 4,
  "nbformat_minor": 5
}