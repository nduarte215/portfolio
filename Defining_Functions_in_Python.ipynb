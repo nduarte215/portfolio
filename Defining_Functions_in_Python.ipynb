{
  "nbformat": 4,
  "nbformat_minor": 0,
  "metadata": {
    "colab": {
      "provenance": [],
      "include_colab_link": true
    },
    "kernelspec": {
      "name": "python3",
      "display_name": "Python 3"
    },
    "language_info": {
      "name": "python"
    }
  },
  "cells": [
    {
      "cell_type": "markdown",
      "metadata": {
        "id": "view-in-github",
        "colab_type": "text"
      },
      "source": [
        "<a href=\"https://colab.research.google.com/github/nduarte215/portfolio/blob/main/Defining_Functions_in_Python.ipynb\" target=\"_parent\"><img src=\"https://colab.research.google.com/assets/colab-badge.svg\" alt=\"Open In Colab\"/></a>"
      ]
    },
    {
      "cell_type": "markdown",
      "source": [
        "# Functions in Python - Colab Notebook"
      ],
      "metadata": {
        "id": "wmRXbPeivc_8"
      }
    },
    {
      "cell_type": "markdown",
      "source": [
        "#### Introduction to Functions\n",
        "\n",
        "A function is a block of code that performs a specified task. Functions help organize your code and make it more readable, maintainable, and reusable.\n"
      ],
      "metadata": {
        "id": "olALzo-Rvkz9"
      }
    },
    {
      "cell_type": "markdown",
      "source": [
        "## Table of Contents\n",
        "\n",
        "1. Why Use Functions?\n",
        "2. Types of Functions\n",
        "    - Nothing goes in, nothing comes out.\n",
        "    - Nothing goes in, something comes out.\n",
        "    - Something goes in, nothing comes out.\n",
        "    - Something goes in, something comes out.\n",
        "3. Interesting Examples and Use Cases\n",
        "4. Try It Yourself\n",
        "5. Exercises"
      ],
      "metadata": {
        "id": "Wx49-tx5vo2M"
      }
    },
    {
      "cell_type": "markdown",
      "source": [
        "## Why Use Functions?\n",
        "\n",
        "- **Readability**: Functions make a program easier to read and understand.\n",
        "- **Reduction in Code Duplication**: Functions reduce code duplication.\n",
        "- **Reusability**: Functions allow the code to be reused.\n",
        "\n",
        "Most of the time, we provide some arguments to a function, and it returns something. However, this may not always be the case. When writing a function, we need to decide if the function needs any arguments or not, and if the function needs to return something or not.\n",
        "\n",
        "\n"
      ],
      "metadata": {
        "id": "BnsvOanvvr74"
      }
    },
    {
      "cell_type": "markdown",
      "source": [
        "## Syntax of Functions\n",
        "\n",
        "The basic syntax for defining a function in Python is as follows:\n",
        "\n"
      ],
      "metadata": {
        "id": "y01qnTnOwm0h"
      }
    },
    {
      "cell_type": "code",
      "source": [
        "def function_name(parameters):\n",
        "    \"\"\"\n",
        "    Optional: Docstring to describe the function.\n",
        "    \"\"\"\n",
        "    # Code block\n",
        "    return result  # Optional: return statement\n"
      ],
      "metadata": {
        "id": "VYpcBUZowjbT"
      },
      "execution_count": 1,
      "outputs": []
    },
    {
      "cell_type": "markdown",
      "source": [
        "* `def`: This keyword is used to declare a function.\n",
        "* `function_name`: This is the name of the function. It should be descriptive and follow standard naming conventions.\n",
        "* `parameters`: These are the inputs to the function. They are optional and can be zero or more.\n",
        "* `\"\"\"Docstring\"\"\"`: This is an optional string to describe what the function does.\n",
        "* `return`: This is an optional statement to return a value from the function.\n",
        "\n",
        "### Example: Write a function that echoes the input that it takes."
      ],
      "metadata": {
        "id": "P7cLCXPlwpfQ"
      }
    },
    {
      "cell_type": "code",
      "source": [
        "# we use the def keyword\n",
        "# then write the function name\n",
        "# then define the function inputs\n",
        "def echo(user_input):\n",
        "\n",
        "  # this will print whatever is sent to this function\n",
        "  print(user_input)"
      ],
      "metadata": {
        "id": "JhVskJ7KxQmu"
      },
      "execution_count": 2,
      "outputs": []
    },
    {
      "cell_type": "code",
      "source": [
        "echo('Hello World')"
      ],
      "metadata": {
        "colab": {
          "base_uri": "https://localhost:8080/"
        },
        "id": "0jSrKVppxlEX",
        "outputId": "32fa968f-2241-490d-c86d-330ecff2f285"
      },
      "execution_count": 3,
      "outputs": [
        {
          "output_type": "stream",
          "name": "stdout",
          "text": [
            "Hello World\n"
          ]
        }
      ]
    },
    {
      "cell_type": "code",
      "source": [
        "echo('An apple a day keeps anyone away, if you throw it hard enough.')"
      ],
      "metadata": {
        "colab": {
          "base_uri": "https://localhost:8080/"
        },
        "id": "MN7k55CExqCm",
        "outputId": "56259a51-5770-495c-9657-b782a5b9276d"
      },
      "execution_count": 4,
      "outputs": [
        {
          "output_type": "stream",
          "name": "stdout",
          "text": [
            "An apple a day keeps anyone away, if you throw it hard enough.\n"
          ]
        }
      ]
    },
    {
      "cell_type": "markdown",
      "source": [
        "Broadly, we can classify the combination of function parameters and their return types as follows:"
      ],
      "metadata": {
        "id": "cb0P2ZMMworX"
      }
    },
    {
      "cell_type": "markdown",
      "source": [
        "### Types of Functions\n",
        "\n",
        "#### 1. Nothing Goes In, Nothing Comes Out\n",
        "\n",
        "This type of function neither takes any input nor returns any output.\n",
        "\n",
        "**Example:**"
      ],
      "metadata": {
        "id": "8zfFMlgZvvHF"
      }
    },
    {
      "cell_type": "code",
      "source": [
        "def greet():\n",
        "    print(\"Hello, world!\")\n",
        "\n",
        "# Calling the function\n",
        "greet()"
      ],
      "metadata": {
        "id": "vKS-vIvtv4Sd",
        "colab": {
          "base_uri": "https://localhost:8080/"
        },
        "outputId": "8accd6e2-7f47-48c0-d559-36fb48000a47"
      },
      "execution_count": 5,
      "outputs": [
        {
          "output_type": "stream",
          "name": "stdout",
          "text": [
            "Hello, world!\n"
          ]
        }
      ]
    },
    {
      "cell_type": "markdown",
      "source": [
        "**Explanation:**\n",
        "- The `greet` function does not take any arguments and does not return anything. It simply prints a message."
      ],
      "metadata": {
        "id": "rTPTRtamyfDH"
      }
    },
    {
      "cell_type": "markdown",
      "source": [
        "#### 2. Nothing Goes In, Something Comes Out\n",
        "\n",
        "This type of function does not take any input but returns an output.\n",
        "\n",
        "**Example:**"
      ],
      "metadata": {
        "id": "EUHL5_W-yiBI"
      }
    },
    {
      "cell_type": "code",
      "source": [
        "def get_pi():\n",
        "    return 3.14159\n",
        "\n",
        "# Calling the function and storing the return value in a variable\n",
        "pi_value = get_pi()\n",
        "print(f\"Value of Pi: {pi_value}\")"
      ],
      "metadata": {
        "id": "iEOMOnrgyl_l",
        "colab": {
          "base_uri": "https://localhost:8080/"
        },
        "outputId": "8ac7be63-8afe-4dec-a668-40f00cd1d563"
      },
      "execution_count": 6,
      "outputs": [
        {
          "output_type": "stream",
          "name": "stdout",
          "text": [
            "Value of Pi: 3.14159\n"
          ]
        }
      ]
    },
    {
      "cell_type": "markdown",
      "source": [
        "**Explanation:**\n",
        "- The `get_pi` function does not take any arguments but returns the value of Pi."
      ],
      "metadata": {
        "id": "QkxlLLhuyqFu"
      }
    },
    {
      "cell_type": "markdown",
      "source": [
        "#### 3. Something Goes In, Nothing Comes Out\n",
        "\n",
        "This type of function takes input but does not return any output.\n",
        "\n",
        "**Example:**"
      ],
      "metadata": {
        "id": "LzhX27zVytOZ"
      }
    },
    {
      "cell_type": "code",
      "source": [
        "def greet_person(name):\n",
        "    print(f\"Hello, {name}!\")\n",
        "\n",
        "# Calling the function with an argument\n",
        "greet_person(\"Alice\")"
      ],
      "metadata": {
        "id": "iUnV9tDcyvMG",
        "colab": {
          "base_uri": "https://localhost:8080/"
        },
        "outputId": "59f97580-602e-402b-ccc1-7b0e4a53d490"
      },
      "execution_count": 7,
      "outputs": [
        {
          "output_type": "stream",
          "name": "stdout",
          "text": [
            "Hello, Alice!\n"
          ]
        }
      ]
    },
    {
      "cell_type": "markdown",
      "source": [
        "**Explanation:**\n",
        "- The `greet_person` function takes a `name` as an argument and prints a personalized greeting message."
      ],
      "metadata": {
        "id": "Y_i83OCByxqf"
      }
    },
    {
      "cell_type": "markdown",
      "source": [
        "#### 4. Something Goes In, Something Comes Out\n",
        "\n",
        "This type of function takes input and returns an output.\n",
        "\n",
        "**Example:**"
      ],
      "metadata": {
        "id": "R-glLTaDyzp5"
      }
    },
    {
      "cell_type": "code",
      "source": [
        "def add_numbers(a, b):\n",
        "    return a + b\n",
        "\n",
        "# Calling the function with arguments and storing the return value in a variable\n",
        "sum_result = add_numbers(5, 3)\n",
        "print(f\"Sum: {sum_result}\")"
      ],
      "metadata": {
        "id": "WhaT-DWWy19h",
        "colab": {
          "base_uri": "https://localhost:8080/"
        },
        "outputId": "3cf49dfa-aa37-4599-fa09-a5f0aca902d2"
      },
      "execution_count": 8,
      "outputs": [
        {
          "output_type": "stream",
          "name": "stdout",
          "text": [
            "Sum: 8\n"
          ]
        }
      ]
    },
    {
      "cell_type": "markdown",
      "source": [
        "**Explanation:**\n",
        "- The `add_numbers` function takes two arguments, `a` and `b`, and returns their sum.\n"
      ],
      "metadata": {
        "id": "NFXu6Aph0IpA"
      }
    },
    {
      "cell_type": "markdown",
      "source": [
        "### Interesting Examples and Use Cases\n",
        "\n",
        "**Example: Calculating the Area of a Circle**\n",
        "You want to create a function that calculates the area of a circle given its radius."
      ],
      "metadata": {
        "id": "7hpaAEyt0Jt7"
      }
    },
    {
      "cell_type": "code",
      "source": [
        "def calculate_area(radius):\n",
        "    pi = 3.14159\n",
        "    return pi * (radius ** 2)\n",
        "\n",
        "# Calling the function with an argument and printing the result\n",
        "area = calculate_area(5)\n",
        "print(f\"Area of the circle: {area}\")"
      ],
      "metadata": {
        "id": "AJGGes0P0Omh",
        "colab": {
          "base_uri": "https://localhost:8080/"
        },
        "outputId": "09511d4a-89c9-4c68-9d59-9eafa64ab999"
      },
      "execution_count": 9,
      "outputs": [
        {
          "output_type": "stream",
          "name": "stdout",
          "text": [
            "Area of the circle: 78.53975\n"
          ]
        }
      ]
    },
    {
      "cell_type": "markdown",
      "source": [
        "### Try It Yourself\n",
        "\n",
        "**Example: Calculating the Average of a List**\n",
        "\n",
        "You want to create a function that calculates the average of a list of numbers.\n"
      ],
      "metadata": {
        "id": "LUZzo9Dz0Zc5"
      }
    },
    {
      "cell_type": "code",
      "source": [
        "def calculate_average(numbers):\n",
        "    # Remove this pass line when you are done writing the function\n",
        "    pass\n",
        "    #### Write your function here\n",
        "\n",
        "\n",
        "    #### your function ends here\n",
        "\n",
        "# Output expected: 30\n",
        "my_numbers = [10, 20, 30, 40, 50]\n",
        "average = calculate_average(my_numbers)\n",
        "print(f\"Average: {average}\")\n",
        "\n",
        "# Output expected: 25\n",
        "your_numbers = [5, 15, 25, 35, 45]\n",
        "your_average = calculate_average(your_numbers)\n",
        "print(f\"Your average: {your_average}\")"
      ],
      "metadata": {
        "colab": {
          "base_uri": "https://localhost:8080/"
        },
        "id": "5bbok87N0e4w",
        "outputId": "7ed38aed-187d-46cb-a751-27ebd81c0228"
      },
      "execution_count": 10,
      "outputs": [
        {
          "output_type": "stream",
          "name": "stdout",
          "text": [
            "Average: None\n",
            "Your average: None\n"
          ]
        }
      ]
    },
    {
      "cell_type": "markdown",
      "source": [
        "### Exercises\n",
        "\n",
        "**Exercise 1: Convert Temperature**\n",
        "Write a function that converts a temperature from Celsius to Fahrenheit."
      ],
      "metadata": {
        "id": "fxKDpXrE1IBv"
      }
    },
    {
      "cell_type": "code",
      "source": [
        "def celsius_to_fahrenheit(celsius):\n",
        "    # Remove this pass line when you are done writing the function\n",
        "    pass\n",
        "    #### Write your function here\n",
        "\n",
        "\n",
        "    #### your function ends here\n",
        "\n",
        " # Test the function\n",
        "temp_fahrenheit = celsius_to_fahrenheit(25)\n",
        "print(f\"Temperature in Fahrenheit: {temp_fahrenheit}\")"
      ],
      "metadata": {
        "id": "jJjZk6CV1HFp",
        "colab": {
          "base_uri": "https://localhost:8080/"
        },
        "outputId": "f35b11f2-244b-49a4-b79e-211a8a23f860"
      },
      "execution_count": 11,
      "outputs": [
        {
          "output_type": "stream",
          "name": "stdout",
          "text": [
            "Temperature in Fahrenheit: None\n"
          ]
        }
      ]
    },
    {
      "cell_type": "markdown",
      "source": [
        "**Exercise 2: Check Even or Odd**\n",
        "Write a function that checks whether a given number is even or odd.\n",
        "\n",
        "Function name should be `is_even` and it should take a number as input.  "
      ],
      "metadata": {
        "id": "rDTBHI1s1UBU"
      }
    },
    {
      "cell_type": "code",
      "source": [
        "# Get user input\n",
        "try:\n",
        "    number = int(input(\"Enter a number: \"))\n",
        "\n",
        "    # Check if even or odd\n",
        "    if number % 2 == 0:\n",
        "        print(f\"{number} is even\")\n",
        "    else:\n",
        "        print(f\"{number} is odd\")\n",
        "\n",
        "except ValueError:\n",
        "    print(\"Please enter a valid integer\")"
      ],
      "metadata": {
        "id": "kvApLivg1fgr",
        "colab": {
          "base_uri": "https://localhost:8080/"
        },
        "outputId": "e0b4ca04-fe73-4da8-d44b-224eb1d6a780"
      },
      "execution_count": 13,
      "outputs": [
        {
          "output_type": "stream",
          "name": "stdout",
          "text": [
            "Enter a number: 5\n",
            "5 is odd\n"
          ]
        }
      ]
    },
    {
      "cell_type": "markdown",
      "source": [
        "**Exercise 3: Find Maximum**\n",
        "Write a function that returns the maximum of two numbers.\n"
      ],
      "metadata": {
        "id": "_KpaHU1O1lNS"
      }
    },
    {
      "cell_type": "code",
      "source": [
        "def find_maximum(a, b):\n",
        "    \"\"\"Return the maximum of two numbers\"\"\"\n",
        "    if a > b:\n",
        "        return a\n",
        "    else:\n",
        "        return b\n",
        "\n",
        "# Test the function\n",
        "print(find_maximum(10, 20))    
        "print(find_maximum(7.5, 7.2))  
      ],
      "metadata": {
        "id": "NvN6SF7c1kZ_",
        "colab": {
          "base_uri": "https://localhost:8080/"
        },
        "outputId": "707dede8-b5ee-4dd0-c7d0-9a3b05c51ead"
      },
      "execution_count": 14,
      "outputs": [
        {
          "output_type": "stream",
          "name": "stdout",
          "text": [
            "20\n",
            "7.5\n"
          ]
        }
      ]
    },
    {
      "cell_type": "markdown",
      "source": [
        "**Exercise 4: Calculate Factorial**\n",
        "Write a function that calculates the factorial of a given number."
      ],
      "metadata": {
        "id": "YjtD8wKS1oPD"
      }
    },
    {
      "cell_type": "code",
      "source": [
        "def factorial(n):\n",
        "    \"\"\"Calculate factorial of n (n! = n × (n-1) × ... × 2 × 1)\"\"\"\n",
        "    if n < 0:\n",
        "        raise ValueError(\"Factorial is not defined for negative numbers\")\n",
        "    if n == 0 or n == 1:\n",
        "        return 1\n",
        "\n",
        "    result = 1\n",
        "    for i in range(2, n + 1):\n",
        "        result *= i\n",
        "    return result\n",
        "\n",
        "# Test cases\n",
        "print(factorial(0))   # Output: 1\n",
        "print(factorial(5))   # Output: 120\n",
        "print(factorial(10))  # Output: 3628800"
      ],
      "metadata": {
        "id": "fNOTM5kM1uZz",
        "colab": {
          "base_uri": "https://localhost:8080/"
        },
        "outputId": "61b12a47-7704-40c7-fcfe-b7722baf34bd"
      },
      "execution_count": 15,
      "outputs": [
        {
          "output_type": "stream",
          "name": "stdout",
          "text": [
            "1\n",
            "120\n",
            "3628800\n"
          ]
        }
      ]
    },
    {
      "cell_type": "markdown",
      "source": [
        "\n",
        "**Exercise 5: Reverse a String**\n",
        "Write a function that reverses a given string."
      ],
      "metadata": {
        "id": "HBsd03f61utQ"
      }
    },
    {
      "cell_type": "code",
      "source": [
        "def reverse_string(s):\n",
        "    \"\"\"Reverse a given string\"\"\"\n",
        "    return s[::-1]\n",
        "\n",
        "# Test cases\n",
        "print(reverse_string(\"hello\"))       
        "print(reverse_string(\"Python\"))      
        "print(reverse_string(\"12345\"))       
        "print(reverse_string(\"\"))            
      ],
      "metadata": {
        "id": "ImTn1U1K1wBo",
        "colab": {
          "base_uri": "https://localhost:8080/"
        },
        "outputId": "a19ac6fa-7f8d-45c0-efa6-74f231e79b23"
      },
      "execution_count": 16,
      "outputs": [
        {
          "output_type": "stream",
          "name": "stdout",
          "text": [
            "olleh\n",
            "nohtyP\n",
            "54321\n",
            "\n"
          ]
        }
      ]
    },
    {
      "cell_type": "markdown",
      "source": [
        "**Exercise 6: Count Vowels in a String**\n",
        "Write a function that counts the number of vowels in a given string."
      ],
      "metadata": {
        "id": "7HfhAsB51wp2"
      }
    },
    {
      "cell_type": "code",
      "source": [
        "def count_vowels(s):\n",
        "    \"\"\"Count the number of vowels in a string\"\"\"\n",
        "    vowels = \"aeiouAEIOU\"\n",
        "    count = 0\n",
        "\n",
        "    for char in s:\n",
        "        if char in vowels:\n",
        "            count += 1\n",
        "\n",
        "    return count\n",
        "\n",
        "# Test cases\n",
        "print(count_vowels(\"Hello World\"))    
        "print(count_vowels(\"Python\"))        
        "print(count_vowels(\"AEIOU\"))         
        "print(count_vowels(\"xyz\"))            
      ],
      "metadata": {
        "id": "HMvikNJB11Av",
        "colab": {
          "base_uri": "https://localhost:8080/"
        },
        "outputId": "2c629214-94a1-4545-d214-cb8a2a79d3a4"
      },
      "execution_count": 17,
      "outputs": [
        {
          "output_type": "stream",
          "name": "stdout",
          "text": [
            "3\n",
            "1\n",
            "5\n",
            "0\n"
          ]
        }
      ]
    },
    {
      "cell_type": "markdown",
      "source": [
        "### Conclusion\n",
        "\n",
        "Functions are an essential part of programming in Python. They help you organize your code, reduce duplication, and make your programs more modular and easier to understand. Practice creating and using functions to enhance your programming skills and make your code more efficient."
      ],
      "metadata": {
        "id": "RdPy4_Vivg-p"
      }
    }
  ]
}
